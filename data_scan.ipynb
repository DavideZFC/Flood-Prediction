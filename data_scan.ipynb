{
 "cells": [
  {
   "cell_type": "code",
   "execution_count": 13,
   "metadata": {},
   "outputs": [],
   "source": [
    "import pandas as pd\n",
    "import seaborn as sns\n",
    "import numpy as np"
   ]
  },
  {
   "cell_type": "code",
   "execution_count": 6,
   "metadata": {},
   "outputs": [],
   "source": [
    "data = pd.read_csv('data/train.csv')"
   ]
  },
  {
   "cell_type": "code",
   "execution_count": 26,
   "metadata": {},
   "outputs": [
    {
     "name": "stderr",
     "output_type": "stream",
     "text": [
      "c:\\Users\\david\\AppData\\Local\\Programs\\Python\\Python311\\Lib\\site-packages\\xgboost\\core.py:160: UserWarning: [18:27:44] WARNING: C:\\buildkite-agent\\builds\\buildkite-windows-cpu-autoscaling-group-i-0b3782d1791676daf-1\\xgboost\\xgboost-ci-windows\\src\\objective\\regression_obj.cu:209: reg:linear is now deprecated in favor of reg:squarederror.\n",
      "  warnings.warn(smsg, UserWarning)\n"
     ]
    }
   ],
   "source": [
    "from sklearn.linear_model import LogisticRegression, LinearRegression\n",
    "import xgboost as xgb\n",
    "\n",
    "\n",
    "X = data.drop(columns=['FloodProbability'])\n",
    "y = data['FloodProbability']\n",
    "\n",
    "'''\n",
    "regression = LinearRegression()\n",
    "regression.fit(X, y)\n",
    "'''\n",
    "\n",
    "xg_reg = xgb.XGBRegressor(objective=\"reg:linear\", n_estimators=100, max_depth=10, seed=123)\n",
    "xg_reg.fit(X,y)\n",
    "\n",
    "regression = xg_reg"
   ]
  },
  {
   "cell_type": "code",
   "execution_count": 27,
   "metadata": {},
   "outputs": [
    {
     "data": {
      "text/plain": [
       "0.020245535458096212"
      ]
     },
     "execution_count": 27,
     "metadata": {},
     "output_type": "execute_result"
    }
   ],
   "source": [
    "y_pred = regression.predict(X)\n",
    "np.mean((y_pred-y)**2)**0.5"
   ]
  },
  {
   "cell_type": "code",
   "execution_count": 29,
   "metadata": {},
   "outputs": [],
   "source": [
    "import datetime\n",
    "tail = datetime.datetime.now().strftime(\"%y_%m_%d-%H_%M_\")\n",
    "\n",
    "data_test = pd.read_csv('data/test.csv')\n",
    "y_test = regression.predict(data_test)\n",
    "\n",
    "dic = {'FloodProbability': y_test}\n",
    "submission = pd.DataFrame.from_dict(dic)\n",
    "submission.reset_index(drop=True, inplace=True)\n",
    "submission['id'] = data_test['id']\n",
    "submission.set_index('id', inplace=True)\n",
    "\n",
    "submission.to_csv('data/my_submission_{}.csv'.format(tail))"
   ]
  }
 ],
 "metadata": {
  "kernelspec": {
   "display_name": "Python 3",
   "language": "python",
   "name": "python3"
  },
  "language_info": {
   "codemirror_mode": {
    "name": "ipython",
    "version": 3
   },
   "file_extension": ".py",
   "mimetype": "text/x-python",
   "name": "python",
   "nbconvert_exporter": "python",
   "pygments_lexer": "ipython3",
   "version": "3.11.3"
  }
 },
 "nbformat": 4,
 "nbformat_minor": 2
}
